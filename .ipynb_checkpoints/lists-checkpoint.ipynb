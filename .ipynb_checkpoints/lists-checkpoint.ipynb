{
 "cells": [
  {
   "cell_type": "markdown",
   "id": "2659a1ab",
   "metadata": {},
   "source": [
    "## Collections\n",
    "\n",
    "\n",
    "We have looked at various types of variables: \n",
    "\n",
    "- int\n",
    "- float\n",
    "- string\n",
    "\n",
    "We can also store multiple of them in something known as a collection.\n",
    "\n",
    "For example, I need to create a replit account for all of you based on your roll number -- I would need a collection or list of your roll numbers."
   ]
  },
  {
   "cell_type": "markdown",
   "id": "8b992d9f",
   "metadata": {},
   "source": [
    "## Lists\n",
    "\n",
    "One of the simpler collection.\n"
   ]
  },
  {
   "cell_type": "code",
   "execution_count": 1,
   "id": "c9ed3ee2",
   "metadata": {},
   "outputs": [
    {
     "name": "stdout",
     "output_type": "stream",
     "text": [
      "[1, 3, 5]\n",
      "<class 'list'>\n"
     ]
    }
   ],
   "source": [
    "# List of numbers (integers)\n",
    "\n",
    "x = [1, 3, 5]\n",
    "\n",
    "# The elements are enclosed in [] and separated by a comma\n",
    "print(x)\n",
    "print(type(x))"
   ]
  },
  {
   "cell_type": "code",
   "execution_count": 2,
   "id": "436684af",
   "metadata": {},
   "outputs": [
    {
     "name": "stdout",
     "output_type": "stream",
     "text": [
      "['Hello', 'World', 'There']\n",
      "<class 'list'>\n"
     ]
    }
   ],
   "source": [
    "# List of strings\n",
    "\n",
    "x = ['Hello', 'World', 'There']\n",
    "\n",
    "# The elements are enclosed in [] and separated by a comma\n",
    "print(x)\n",
    "print(type(x))"
   ]
  },
  {
   "cell_type": "code",
   "execution_count": 3,
   "id": "348ab5ca",
   "metadata": {},
   "outputs": [
    {
     "name": "stdout",
     "output_type": "stream",
     "text": [
      "[20, 'Alpha', '10.0']\n",
      "<class 'list'>\n"
     ]
    }
   ],
   "source": [
    "# Lists can be heterogenous\n",
    "\n",
    "x = [20, 'Alpha', '10.0']\n",
    "\n",
    "print(x)\n",
    "print(type(x))"
   ]
  },
  {
   "cell_type": "markdown",
   "id": "7dd30809",
   "metadata": {},
   "source": [
    "## Lists Iteration using for loop"
   ]
  },
  {
   "cell_type": "code",
   "execution_count": 4,
   "id": "589242ca",
   "metadata": {},
   "outputs": [
    {
     "name": "stdout",
     "output_type": "stream",
     "text": [
      "Hello\n",
      "World\n",
      "There\n"
     ]
    }
   ],
   "source": [
    "x = ['Hello', 'World', 'There']\n",
    "for n in x:\n",
    "    print(n)"
   ]
  },
  {
   "cell_type": "code",
   "execution_count": 5,
   "id": "0e1537fc",
   "metadata": {},
   "outputs": [
    {
     "name": "stdout",
     "output_type": "stream",
     "text": [
      "1\n",
      "4\n",
      "10.0\n"
     ]
    }
   ],
   "source": [
    "x = [1, 4, 10.0]\n",
    "for n in x:\n",
    "    print(n)"
   ]
  },
  {
   "cell_type": "markdown",
   "id": "54c3b530",
   "metadata": {},
   "source": [
    "## List Methods and Attributes\n",
    "\n",
    "### `len()`"
   ]
  },
  {
   "cell_type": "code",
   "execution_count": 6,
   "id": "6235b257",
   "metadata": {},
   "outputs": [
    {
     "name": "stdout",
     "output_type": "stream",
     "text": [
      "7\n"
     ]
    }
   ],
   "source": [
    "pizza_steps = ['Get dough', 'Heat oven', 'Mold dough', 'Add seasoning', 'Heat dough', 'Cool dough',  'Serve']\n",
    "\n",
    "# Question: How many steps does it take to cook pizza?\n",
    "\n",
    "num_steps = len(pizza_steps)\n",
    "print(num_steps)"
   ]
  },
  {
   "cell_type": "code",
   "execution_count": 7,
   "id": "a42fa573",
   "metadata": {},
   "outputs": [
    {
     "name": "stdout",
     "output_type": "stream",
     "text": [
      "10\n"
     ]
    }
   ],
   "source": [
    "match_scores_kohli = [40, 30, 50, 0, 40, 80, 90, 100, 120, 60]\n",
    "\n",
    "# How many matches has Kohli played?\n",
    "\n",
    "num_matches = len(match_scores_kohli)\n",
    "print(num_matches)"
   ]
  },
  {
   "cell_type": "markdown",
   "id": "5c7b9be3",
   "metadata": {},
   "source": [
    "### `max()`, `min()`, `sum()`"
   ]
  },
  {
   "cell_type": "code",
   "execution_count": 8,
   "id": "e62db080",
   "metadata": {},
   "outputs": [
    {
     "name": "stdout",
     "output_type": "stream",
     "text": [
      "120 using for loop\n",
      "120 using builtin\n"
     ]
    }
   ],
   "source": [
    "# What is Virat Kohli's highest score\n",
    "\n",
    "# Method 1 (for loop)\n",
    "\n",
    "highest = 0\n",
    "for score in match_scores_kohli:\n",
    "    if score > highest:\n",
    "        highest = score\n",
    "print(highest, \"using for loop\")\n",
    "\n",
    "# Method 2 (while loop)\n",
    "\n",
    "\"\"\"\n",
    "highest = 0\n",
    "matches_accounted = 0\n",
    "num_matches = len(match_scores_kohli)\n",
    "while matches_accounted < num_matches:\n",
    "   How to access score of a given match..coming up.. in list indexing..\n",
    "\"\"\"\n",
    "\n",
    "# Method 3 (builtin method)\n",
    "highest  = max(match_scores_kohli)\n",
    "print(highest, \"using builtin\")"
   ]
  },
  {
   "cell_type": "code",
   "execution_count": 9,
   "id": "7a70b9c4",
   "metadata": {},
   "outputs": [
    {
     "name": "stdout",
     "output_type": "stream",
     "text": [
      "Average: 61.0\n"
     ]
    }
   ],
   "source": [
    "# What is Virat Kohli's average\n",
    "\n",
    "ave = sum(match_scores_kohli)/len(match_scores_kohli)\n",
    "print(\"Average:\" , ave)"
   ]
  },
  {
   "cell_type": "markdown",
   "id": "7049f902",
   "metadata": {},
   "source": [
    "### `append()`"
   ]
  },
  {
   "cell_type": "code",
   "execution_count": 10,
   "id": "55360a03",
   "metadata": {},
   "outputs": [
    {
     "name": "stdout",
     "output_type": "stream",
     "text": [
      "Before appending\n",
      "[40, 30, 50, 0, 40, 80, 90, 100, 120, 60]\n",
      "After appending\n",
      "[40, 30, 50, 0, 40, 80, 90, 100, 120, 60, 90]\n"
     ]
    }
   ],
   "source": [
    "# Virat Kohli score 90 in latest match. Append this to his score.\n",
    "\n",
    "print(\"Before appending\")\n",
    "print(match_scores_kohli)\n",
    "match_scores_kohli.append(90)\n",
    "print(\"After appending\")\n",
    "print(match_scores_kohli)"
   ]
  },
  {
   "cell_type": "code",
   "execution_count": 11,
   "id": "103b7831",
   "metadata": {},
   "outputs": [],
   "source": [
    "# Question: How much should Virat Kohli score in next match so that his average becomes greater than 80?"
   ]
  },
  {
   "cell_type": "code",
   "execution_count": 12,
   "id": "74d6079d",
   "metadata": {},
   "outputs": [
    {
     "name": "stdout",
     "output_type": "stream",
     "text": [
      "How many matches she has played6\n",
      "40\n",
      "80\n",
      "120\n",
      "0\n",
      "90\n",
      "60\n",
      "Mithali Average 65.0\n"
     ]
    }
   ],
   "source": [
    "# Now, let us take some inputs from you (the user) for former Indian women cricket captain Mithali Raj's scores.\n",
    "# We need to put them in a list and compute her average. \n",
    "\n",
    "# start with empty list\n",
    "mithali_score = []\n",
    "\n",
    "# First ask how many matches she has played\n",
    "nm = int(input('How many matches she has played'))\n",
    "\n",
    "# Take nm inputs and append to list\n",
    "for match in range(0, nm, 1):\n",
    "    score = int(input())\n",
    "    mithali_score.append(score)\n",
    "\n",
    "# Print average\n",
    "mithali_ave = sum(mithali_score)/len(mithali_score)\n",
    "print(\"Mithali Average\", mithali_ave)"
   ]
  },
  {
   "cell_type": "markdown",
   "id": "997fe88e",
   "metadata": {},
   "source": [
    "### Transformation (aka map)"
   ]
  },
  {
   "cell_type": "code",
   "execution_count": 13,
   "id": "fdd458a9",
   "metadata": {},
   "outputs": [
    {
     "name": "stdout",
     "output_type": "stream",
     "text": [
      "Old scores: [40, 30, 50, 0, 40, 80, 90, 100, 120, 60, 90]\n",
      "New scores: [44, 34, 54, 4, 44, 84, 94, 104, 124, 64, 94]\n"
     ]
    }
   ],
   "source": [
    "# There was a technology problem. Virat Kohli score should be 4 more in each match.\n",
    "# Create a new list with his updated scores\n",
    "\n",
    "correct_scores = []\n",
    "for old_score in match_scores_kohli:\n",
    "    new_score = old_score + 4\n",
    "    correct_scores.append(new_score)\n",
    "\n",
    "print(\"Old scores:\", match_scores_kohli)\n",
    "print(\"New scores:\", correct_scores)"
   ]
  },
  {
   "cell_type": "code",
   "execution_count": 14,
   "id": "27344b24",
   "metadata": {},
   "outputs": [
    {
     "name": "stdout",
     "output_type": "stream",
     "text": [
      "[0, 1, 4, 9, 16, 25, 36, 49, 64, 81, 100]\n"
     ]
    }
   ],
   "source": [
    "# Write a program to return a list of squares of first N numbers\n",
    "\n",
    "n = 10\n",
    "squares = []\n",
    "for i in range(0, n+1, 1):\n",
    "    squares.append(i*i)\n",
    "print(squares)"
   ]
  },
  {
   "cell_type": "code",
   "execution_count": 15,
   "id": "83aef5b7",
   "metadata": {},
   "outputs": [
    {
     "name": "stdout",
     "output_type": "stream",
     "text": [
      "[1, 5, 0, 60, -2]\n",
      "[1, 25, 0, 3600, 4]\n"
     ]
    }
   ],
   "source": [
    "# Write a program to return squares of numbers in list of numbers entered by user\n",
    "\n",
    "\n",
    "user_list = [1, 5, 0, 60, -2]\n",
    "square_user_list = []\n",
    "for x in user_list:\n",
    "    square_user_list.append(x*x)\n",
    "print(user_list)\n",
    "print(square_user_list)"
   ]
  },
  {
   "cell_type": "markdown",
   "id": "8167bf29",
   "metadata": {},
   "source": [
    "### Filtering"
   ]
  },
  {
   "cell_type": "code",
   "execution_count": 16,
   "id": "7e1352a6",
   "metadata": {},
   "outputs": [
    {
     "name": "stdout",
     "output_type": "stream",
     "text": [
      "[40, 30, 50, 0, 40, 80, 90, 100, 120, 60, 90]\n",
      "[50, 80, 90, 100, 120, 60, 90]\n"
     ]
    }
   ],
   "source": [
    "# Write a program to create a list of score of Virat Kohli that are greater than 40\n",
    "\n",
    "\n",
    "greater_40 = []\n",
    "for score in match_scores_kohli:\n",
    "    if score > 40:\n",
    "        greater_40.append(score)\n",
    "\n",
    "print(match_scores_kohli)\n",
    "print(greater_40)"
   ]
  },
  {
   "cell_type": "markdown",
   "id": "474053f6",
   "metadata": {},
   "source": [
    "### Indexing\n",
    "\n",
    "x[pos] gives the item in the list `x` at `pos` position. Lists are 0-indexed. That is counting starts at 0.\n",
    "\n",
    "x = [20, 50, 30]\n",
    "\n",
    "Here pos = 0 means item 20, pos = 1 means item 50 and pos = 2 means item 30\n",
    "\n"
   ]
  },
  {
   "cell_type": "code",
   "execution_count": 17,
   "id": "60594327",
   "metadata": {},
   "outputs": [
    {
     "name": "stdout",
     "output_type": "stream",
     "text": [
      "[40, 30, 50, 0, 40, 80, 90, 100, 120, 60, 90]\n",
      "First match:  40\n"
     ]
    }
   ],
   "source": [
    "# What was Kohli's score in his first match\n",
    "\n",
    "print(match_scores_kohli)\n",
    "print(\"First match: \", match_scores_kohli[0])"
   ]
  },
  {
   "cell_type": "markdown",
   "id": "78ea7d61",
   "metadata": {},
   "source": [
    "### `in`"
   ]
  },
  {
   "cell_type": "code",
   "execution_count": 18,
   "id": "a88c111c",
   "metadata": {},
   "outputs": [
    {
     "name": "stdout",
     "output_type": "stream",
     "text": [
      "[40, 30, 50, 0, 40, 80, 90, 100, 120, 60, 90]\n",
      "True\n"
     ]
    }
   ],
   "source": [
    "# Has Virat Kohli scored a 0?\n",
    "\n",
    "print(match_scores_kohli)\n",
    "print(0 in match_scores_kohli)"
   ]
  },
  {
   "cell_type": "markdown",
   "id": "c19364ee",
   "metadata": {},
   "source": [
    "### Slicing\n",
    "\n",
    "x[a:b] means gives the values in the list `x` starting from ath position going till b-1 th position"
   ]
  },
  {
   "cell_type": "code",
   "execution_count": 19,
   "id": "90801f55",
   "metadata": {},
   "outputs": [
    {
     "name": "stdout",
     "output_type": "stream",
     "text": [
      "[40, 30, 50, 0, 40, 80, 90, 100, 120, 60, 90]\n",
      "[40, 30] prints 0th and 1st position\n"
     ]
    }
   ],
   "source": [
    "print(match_scores_kohli)\n",
    "print(match_scores_kohli[0:2], \"prints 0th and 1st position\")"
   ]
  },
  {
   "cell_type": "code",
   "execution_count": 20,
   "id": "1c4eef05",
   "metadata": {},
   "outputs": [
    {
     "name": "stdout",
     "output_type": "stream",
     "text": [
      "[40, 30, 50, 0, 40, 80]\n",
      "40.0\n"
     ]
    }
   ],
   "source": [
    "# What is Kohli's average in first 6 matches?\n",
    "\n",
    "first_six = match_scores_kohli[0:6]\n",
    "print(first_six)\n",
    "ave_6 = sum(first_six)/6\n",
    "print(ave_6)"
   ]
  },
  {
   "cell_type": "markdown",
   "id": "6478c414",
   "metadata": {},
   "source": [
    "### List Comprehensions (Advanced -- not for exams)"
   ]
  },
  {
   "cell_type": "code",
   "execution_count": 1,
   "id": "6501958d",
   "metadata": {},
   "outputs": [
    {
     "name": "stdout",
     "output_type": "stream",
     "text": [
      "[1, 4, 5, 6, 10]\n",
      "[1, 16, 25, 36, 100]\n"
     ]
    }
   ],
   "source": [
    "# Create a list by squaring elements of x\n",
    "\n",
    "x = [1, 4, 5, 6, 10]\n",
    "y = [i**2 for i in x]\n",
    "\n",
    "print(x)\n",
    "print(y)"
   ]
  },
  {
   "cell_type": "code",
   "execution_count": 4,
   "id": "a49a8e5a",
   "metadata": {},
   "outputs": [
    {
     "name": "stdout",
     "output_type": "stream",
     "text": [
      "[1, 5, 6, 10, 11, 20]\n",
      "[1, 5, 11]\n"
     ]
    }
   ],
   "source": [
    "# Create a list of odd numbers in x\n",
    "\n",
    "x = [1, 5, 6, 10, 11, 20]\n",
    "y = [i for i in x if i%2 == 1]\n",
    "\n",
    "print(x)\n",
    "print(y)"
   ]
  },
  {
   "cell_type": "code",
   "execution_count": null,
   "id": "346b7b04",
   "metadata": {},
   "outputs": [],
   "source": []
  }
 ],
 "metadata": {
  "kernelspec": {
   "display_name": "Python 3",
   "language": "python",
   "name": "python3"
  },
  "language_info": {
   "codemirror_mode": {
    "name": "ipython",
    "version": 3
   },
   "file_extension": ".py",
   "mimetype": "text/x-python",
   "name": "python",
   "nbconvert_exporter": "python",
   "pygments_lexer": "ipython3",
   "version": "3.8.11"
  }
 },
 "nbformat": 4,
 "nbformat_minor": 5
}
