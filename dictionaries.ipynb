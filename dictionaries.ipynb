{
 "cells": [
  {
   "cell_type": "markdown",
   "id": "bb1c2c58",
   "metadata": {},
   "source": [
    "### Dictionaries\n",
    "\n",
    "Dictionaries are data structures on Python for storing `key`, `value` pairs."
   ]
  },
  {
   "cell_type": "markdown",
   "id": "54b6a792",
   "metadata": {},
   "source": [
    "#### Score example"
   ]
  },
  {
   "cell_type": "code",
   "execution_count": 22,
   "id": "fa6a8c7c",
   "metadata": {},
   "outputs": [
    {
     "name": "stdout",
     "output_type": "stream",
     "text": [
      "80\n"
     ]
    }
   ],
   "source": [
    "# Assuming you have the following marks for the students\n",
    "\n",
    "# Alpha: 90\n",
    "# Beta: 80\n",
    "# Gamma: 99\n",
    "# Delta: 70\n",
    "\n",
    "# You are storing this data via lists\n",
    "\n",
    "\n",
    "names = ['Alpha', 'Beta', 'Gamma', \"Delta\"]\n",
    "scores = [90, 80, 99, 70]\n",
    "\n",
    "# Q: How many marks did Beta score?\n",
    "\n",
    "length = len(names)\n",
    "for i in range(0, length, 1):\n",
    "    name = names[i]\n",
    "    score = scores[i]\n",
    "    \n",
    "    if name == 'Beta':\n",
    "        score_record = scores[i]\n",
    "\n",
    "print(score_record)"
   ]
  },
  {
   "cell_type": "markdown",
   "id": "d8ee5b35",
   "metadata": {},
   "source": [
    "#### Getting value"
   ]
  },
  {
   "cell_type": "code",
   "execution_count": 23,
   "id": "e98be88d",
   "metadata": {},
   "outputs": [
    {
     "name": "stdout",
     "output_type": "stream",
     "text": [
      "80\n"
     ]
    }
   ],
   "source": [
    "# Now, let us get the same via a dictionary\n",
    "\n",
    "\n",
    "score_dictionary = {\n",
    "    'Alpha': 90,\n",
    "    'Beta': 80,\n",
    "    'Gamma': 99,\n",
    "    'Delta': 70\n",
    "}\n",
    "\n",
    "print(score_dictionary['Beta'])"
   ]
  },
  {
   "cell_type": "markdown",
   "id": "209a5e27",
   "metadata": {},
   "source": [
    "The keys in the previous dictionaries are: \"Alpha\", 'Beta', ... and the corresponding values are: 90, 80, ... respectively.\n"
   ]
  },
  {
   "cell_type": "code",
   "execution_count": 24,
   "id": "4a62996a",
   "metadata": {},
   "outputs": [],
   "source": [
    "#### Animal example\n",
    "\n",
    "## Let us say we have a few animals and want to categorise them.\n",
    "\n",
    "## We have\n",
    "\n",
    "## Mammals: Humans, Elephants\n",
    "## Reptiles: Snakes, Turtles, Tortoise\n",
    "## Fishes: Eel, Shark, Salmon\n",
    "## Birds: Parrot, Peacock, Hen\n",
    "## Invertebrates: Spider, Earthworm, Tapeworm, \n",
    "## Amphibian: Frogs, Toads\n",
    "\n",
    "## Write a dictionary to save this information\n",
    "\n",
    "\n",
    "animals = {\n",
    "    \"Mammals\": [\"Humans\", \"Elephants\"],\n",
    "    \"Reptiles\": [\"Snakes\", \"Turtles\", \"Tortoise\", \"Lizards\"],\n",
    "    \"Fishes\": [\"Eel\", \"Shark\", \"Salmon\"],\n",
    "    \"Birds\": [\"Parrot\", \"Peacock\", \"Hen\"],\n",
    "    \"Invertebrates\": [\"Spider\", \"Earthworm\", \"Tapeworm\"],\n",
    "    \"Amphibians\": [\"Frogs\", \"Toads\"]\n",
    "}"
   ]
  },
  {
   "cell_type": "markdown",
   "id": "e2716f12",
   "metadata": {},
   "source": [
    "#### .keys()"
   ]
  },
  {
   "cell_type": "code",
   "execution_count": 25,
   "id": "d0ce28df",
   "metadata": {},
   "outputs": [],
   "source": [
    "# Question: What is the total number of categories?\n",
    "\n",
    "# Hint: Number of keys\n",
    "\n",
    "categories_animals = animals.keys()"
   ]
  },
  {
   "cell_type": "code",
   "execution_count": 26,
   "id": "33d80e62",
   "metadata": {},
   "outputs": [
    {
     "data": {
      "text/plain": [
       "dict_keys(['Mammals', 'Reptiles', 'Fishes', 'Birds', 'Invertebrates', 'Amphibians'])"
      ]
     },
     "execution_count": 26,
     "metadata": {},
     "output_type": "execute_result"
    }
   ],
   "source": [
    "categories_animals"
   ]
  },
  {
   "cell_type": "code",
   "execution_count": 27,
   "id": "930ff9f7",
   "metadata": {},
   "outputs": [],
   "source": [
    "categories_animals = list(animals.keys())"
   ]
  },
  {
   "cell_type": "code",
   "execution_count": 28,
   "id": "54b1b35b",
   "metadata": {},
   "outputs": [
    {
     "data": {
      "text/plain": [
       "['Mammals', 'Reptiles', 'Fishes', 'Birds', 'Invertebrates', 'Amphibians']"
      ]
     },
     "execution_count": 28,
     "metadata": {},
     "output_type": "execute_result"
    }
   ],
   "source": [
    "categories_animals"
   ]
  },
  {
   "cell_type": "code",
   "execution_count": 29,
   "id": "33ff1bf4",
   "metadata": {},
   "outputs": [],
   "source": [
    "num_categories = len(categories_animals)"
   ]
  },
  {
   "cell_type": "code",
   "execution_count": 30,
   "id": "e36badc3",
   "metadata": {},
   "outputs": [
    {
     "name": "stdout",
     "output_type": "stream",
     "text": [
      "6\n"
     ]
    }
   ],
   "source": [
    "print(num_categories)"
   ]
  },
  {
   "cell_type": "code",
   "execution_count": 31,
   "id": "c1091aa8",
   "metadata": {},
   "outputs": [
    {
     "ename": "KeyError",
     "evalue": "'birds'",
     "output_type": "error",
     "traceback": [
      "\u001b[0;31m---------------------------------------------------------------------------\u001b[0m",
      "\u001b[0;31mKeyError\u001b[0m                                  Traceback (most recent call last)",
      "\u001b[0;32m<ipython-input-31-fc17f7b12403>\u001b[0m in \u001b[0;36m<module>\u001b[0;34m\u001b[0m\n\u001b[1;32m      1\u001b[0m \u001b[0;31m# Question: Print all birds.\u001b[0m\u001b[0;34m\u001b[0m\u001b[0;34m\u001b[0m\u001b[0;34m\u001b[0m\u001b[0m\n\u001b[1;32m      2\u001b[0m \u001b[0;34m\u001b[0m\u001b[0m\n\u001b[0;32m----> 3\u001b[0;31m \u001b[0mprint\u001b[0m\u001b[0;34m(\u001b[0m\u001b[0manimals\u001b[0m\u001b[0;34m[\u001b[0m\u001b[0;34m\"birds\"\u001b[0m\u001b[0;34m]\u001b[0m\u001b[0;34m)\u001b[0m\u001b[0;34m\u001b[0m\u001b[0;34m\u001b[0m\u001b[0m\n\u001b[0m",
      "\u001b[0;31mKeyError\u001b[0m: 'birds'"
     ]
    }
   ],
   "source": [
    "# Question: Print all birds.\n",
    "\n",
    "print(animals[\"birds\"])"
   ]
  },
  {
   "cell_type": "markdown",
   "id": "3e37ac7b",
   "metadata": {},
   "source": [
    "We above saw that using an incorrect key gives us a KeyError"
   ]
  },
  {
   "cell_type": "code",
   "execution_count": 32,
   "id": "3646f3b2",
   "metadata": {},
   "outputs": [
    {
     "name": "stdout",
     "output_type": "stream",
     "text": [
      "['Parrot', 'Peacock', 'Hen']\n"
     ]
    }
   ],
   "source": [
    "print(animals[\"Birds\"])"
   ]
  },
  {
   "cell_type": "code",
   "execution_count": 33,
   "id": "2d0278a3",
   "metadata": {},
   "outputs": [],
   "source": [
    "# Q: Print all animals"
   ]
  },
  {
   "cell_type": "code",
   "execution_count": 34,
   "id": "8d911fa7",
   "metadata": {},
   "outputs": [
    {
     "name": "stdout",
     "output_type": "stream",
     "text": [
      "{'Mammals': ['Humans', 'Elephants'], 'Reptiles': ['Snakes', 'Turtles', 'Tortoise', 'Lizards'], 'Fishes': ['Eel', 'Shark', 'Salmon'], 'Birds': ['Parrot', 'Peacock', 'Hen'], 'Invertebrates': ['Spider', 'Earthworm', 'Tapeworm'], 'Amphibians': ['Frogs', 'Toads']}\n"
     ]
    }
   ],
   "source": [
    "print(animals)"
   ]
  },
  {
   "cell_type": "code",
   "execution_count": 35,
   "id": "9e3547a5",
   "metadata": {},
   "outputs": [
    {
     "name": "stdout",
     "output_type": "stream",
     "text": [
      "Mammals: ['Humans', 'Elephants']\n",
      "Reptiles: ['Snakes', 'Turtles', 'Tortoise', 'Lizards']\n",
      "Fishes: ['Eel', 'Shark', 'Salmon']\n",
      "Birds: ['Parrot', 'Peacock', 'Hen']\n",
      "Invertebrates: ['Spider', 'Earthworm', 'Tapeworm']\n",
      "Amphibians: ['Frogs', 'Toads']\n"
     ]
    }
   ],
   "source": [
    "# Q: Print all animals with each animal category in new line\n",
    "\n",
    "\n",
    "# Method 1\n",
    "\n",
    "# First get categories of animals\n",
    "\n",
    "categories_animals = list(animals.keys())\n",
    "\n",
    "for animal_c in categories_animals:\n",
    "    list_animals_c = animals[animal_c]\n",
    "    print(f\"{animal_c}: {list_animals_c}\")"
   ]
  },
  {
   "cell_type": "code",
   "execution_count": 36,
   "id": "30e30d0f",
   "metadata": {},
   "outputs": [
    {
     "name": "stdout",
     "output_type": "stream",
     "text": [
      "Mammals: ['Humans', 'Elephants']\n",
      "Reptiles: ['Snakes', 'Turtles', 'Tortoise', 'Lizards']\n",
      "Fishes: ['Eel', 'Shark', 'Salmon']\n",
      "Birds: ['Parrot', 'Peacock', 'Hen']\n",
      "Invertebrates: ['Spider', 'Earthworm', 'Tapeworm']\n",
      "Amphibians: ['Frogs', 'Toads']\n"
     ]
    }
   ],
   "source": [
    "# Method 2\n",
    "\n",
    "# Python directly allows looping over the keys\n",
    "\n",
    "\n",
    "for animal_c in animals:\n",
    "    list_animals_c = animals[animal_c]\n",
    "    print(f\"{animal_c}: {list_animals_c}\")"
   ]
  },
  {
   "cell_type": "markdown",
   "id": "2d0fc651",
   "metadata": {},
   "source": [
    "#### Setting value"
   ]
  },
  {
   "cell_type": "code",
   "execution_count": 37,
   "id": "16ab08ed",
   "metadata": {},
   "outputs": [
    {
     "name": "stdout",
     "output_type": "stream",
     "text": [
      "Before\n",
      "********************************************************************************\n",
      "{'Mammals': ['Humans', 'Elephants'], 'Reptiles': ['Snakes', 'Turtles', 'Tortoise', 'Lizards'], 'Fishes': ['Eel', 'Shark', 'Salmon'], 'Birds': ['Parrot', 'Peacock', 'Hen'], 'Invertebrates': ['Spider', 'Earthworm', 'Tapeworm'], 'Amphibians': ['Frogs', 'Toads']}\n",
      "********************************************************************************\n",
      "After\n",
      "{'Mammals': ['Humans', 'Elephants'], 'Reptiles': ['Snakes', 'Turtles', 'Tortoise', 'Lizards'], 'Fishes': ['Eel', 'Shark', 'Salmon'], 'Birds': ['Parrot', 'Peacock', 'Hen'], 'Invertebrates': ['Spider', 'Earthworm', 'Tapeworm'], 'Amphibians': ['Frogs', 'Toads'], 'NewAnimal': ['AnimalX', 'AnimalZ']}\n"
     ]
    }
   ],
   "source": [
    "# Q: Add a new category of animals freshly discovered called\n",
    "# NewAnimal with known animals as: AnimalX and AnimalZ\n",
    "\n",
    "print(\"Before\")\n",
    "print(\"*\"*80)\n",
    "\n",
    "\n",
    "print(animals)\n",
    "print(\"*\"*80)\n",
    "# Adding new\n",
    "animals['NewAnimal'] = ['AnimalX', 'AnimalZ']\n",
    "\n",
    "\n",
    "# Not, we are setting value, thus syntax is:\n",
    "# Dictionary_Name[NewKey] = NewValue\n",
    "\n",
    "# While getting, the syntax is:\n",
    "# ValueStored = Dictionary_Name[Key]\n",
    "\n",
    "\n",
    "\n",
    "\n",
    "print(\"After\")\n",
    "print(animals)\n",
    "\n"
   ]
  },
  {
   "cell_type": "markdown",
   "id": "712fb0d1",
   "metadata": {},
   "source": [
    "#### Dictionary Creation"
   ]
  },
  {
   "cell_type": "code",
   "execution_count": 39,
   "id": "d3e4be53",
   "metadata": {},
   "outputs": [
    {
     "name": "stdout",
     "output_type": "stream",
     "text": [
      "{1: 1, 2: 4, 3: 9, 4: 16, 5: 25, 6: 36, 7: 49, 8: 64, 9: 81, 10: 100}\n"
     ]
    }
   ],
   "source": [
    "## Q: Create a dictionary storing the squares of a number from 1 to N\n",
    "\n",
    "N = 10\n",
    "\n",
    "squares = {}\n",
    "\n",
    "for i in range(1, N+1, 1):\n",
    "    squares[i] = i*i\n",
    "\n",
    "print(squares)"
   ]
  },
  {
   "cell_type": "code",
   "execution_count": 40,
   "id": "29fc5c83",
   "metadata": {},
   "outputs": [
    {
     "name": "stdout",
     "output_type": "stream",
     "text": [
      "{1: False, 2: True, 3: False, 4: True, 5: False, 6: True, 7: False, 8: True, 9: False, 10: True}\n"
     ]
    }
   ],
   "source": [
    "## Q: Create a dictionary storing True or False depending on \n",
    "## whether a number is even or not for first N intergers from 1\n",
    "\n",
    "N = 10\n",
    "\n",
    "odd_even = {}\n",
    "\n",
    "for i in range(1, N+1, 1):\n",
    "    if i%2 == 0:\n",
    "        odd_even[i] = True\n",
    "    else:\n",
    "        odd_even[i] = False\n",
    "\n",
    "print(odd_even)"
   ]
  },
  {
   "cell_type": "code",
   "execution_count": 43,
   "id": "29c63ba2",
   "metadata": {},
   "outputs": [
    {
     "name": "stdout",
     "output_type": "stream",
     "text": [
      "{'Mammals': 2, 'Reptiles': 4, 'Fishes': 3, 'Birds': 3, 'Invertebrates': 3, 'Amphibians': 2, 'NewAnimal': 2}\n"
     ]
    }
   ],
   "source": [
    "## Given the dictionary animals, create a dictionary\n",
    "## num_animals that contains the number of animals in each category\n",
    "\n",
    "num_animals = {}\n",
    "for animal_c in animals:\n",
    "    num_animals_c = len(animals[animal_c])\n",
    "    num_animals[animal_c] = num_animals_c\n",
    "\n",
    "print(num_animals)"
   ]
  },
  {
   "cell_type": "code",
   "execution_count": 45,
   "id": "0b8607f1",
   "metadata": {},
   "outputs": [
    {
     "name": "stdout",
     "output_type": "stream",
     "text": [
      "Maximum number of animals are in Reptiles category with number as: 4 \n"
     ]
    }
   ],
   "source": [
    "## Find the category of animals having maximum number of animals\n",
    "\n",
    "\n",
    "max_animals = -1\n",
    "for animal_c in num_animals:\n",
    "    num_animals_c = num_animals[animal_c]\n",
    "    if num_animals_c > max_animals:\n",
    "        max_animals = num_animals_c\n",
    "        cat_animal_max = animal_c\n",
    "\n",
    "print(f\"Maximum number of animals are in {cat_animal_max} category with number as: {max_animals} \")"
   ]
  },
  {
   "cell_type": "markdown",
   "id": "50397566",
   "metadata": {},
   "source": [
    "#### Word counting"
   ]
  },
  {
   "cell_type": "code",
   "execution_count": 52,
   "id": "125adaca",
   "metadata": {},
   "outputs": [],
   "source": [
    "# Given a long sentence, find the number of times different words occur\n",
    "\n",
    "sentence = \"\"\"A wonderful serenity has taken possession of my entire soul, like these sweet mornings of spring which I enjoy with my whole heart. I am alone, and feel the charm of existence in this spot, which was created for the bliss of souls like mine. I am so happy, my dear friend, so absorbed in the exquisite sense of mere tranquil existence, that I neglect my talents. I should be incapable of drawing a single stroke at the present moment; and yet I feel that I never was a greater artist than now. When, while the lovely valley teems with vapour around me, and the meridian sun strikes the upper surface of the impenetrable foliage of my trees, and but a few stray gleams steal into the inner sanctuary, I throw myself down among the tall grass by the trickling stream; and, as I lie close to the earth, a thousand unknown plants are noticed by me: when I hear the buzz of the little world among the stalks, and grow familiar with the countless indescribable forms of the insects and flies, then I feel the presence of the Almighty, who formed us in his own image, and the breath of that universal love which bears and sustains us, as it floats around us in an eternity of bliss; and then, my friend, when darkness overspreads my eyes, and heaven and earth seem to dwell in my soul and absorb its power, like the form of a beloved mistress, then I often think with longing, Oh, would I could describe these conceptions, could impress upon paper all that is living so full and warm within me, that it might be the mirror of my soul, as my soul is the mirror of the infinite God! O my friend -- but it is too much for my strength -- I sink under the weight of the splendour of these visions! A wonderful serenity has taken possession of my entire soul, like these sweet mornings of spring which I enjoy with my whole heart. I am alone, and feel the charm of existence in this spot, which was created for the bliss of souls like mine. I am so happy, my dear friend, so absorbed in the exquisite sense of mere tranquil existence, that I neglect my talents. I should be incapable of drawing a single stroke at the present moment; and yet I feel that I never was a greater artist than now. When, while the lovely valley teems with vapour around me, and the meridian sun strikes the upper surface of the impenetrable foliage of my trees, and but a few stray gleams steal into the inner sanctuary, I throw myself down among the tall grass by the trickling stream; and, as I lie close to the earth, a thousand unknown plants are noticed by me: when I hear the buzz of the little world among the stalks, and grow familiar with the\"\"\"\n",
    "\n",
    "# Taken from: https://cts.instructure.com/courses/172185/pages/word-count-examples"
   ]
  },
  {
   "cell_type": "code",
   "execution_count": 53,
   "id": "508ffb1b",
   "metadata": {},
   "outputs": [
    {
     "data": {
      "text/plain": [
       "'A wonderful serenity has taken possession of my entire soul, like these sweet mornings of spring which I enjoy with my whole heart. I am alone, and feel the charm of existence in this spot, which was created for the bliss of souls like mine. I am so happy, my dear friend, so absorbed in the exquisite sense of mere tranquil existence, that I neglect my talents. I should be incapable of drawing a single stroke at the present moment; and yet I feel that I never was a greater artist than now. When, while the lovely valley teems with vapour around me, and the meridian sun strikes the upper surface of the impenetrable foliage of my trees, and but a few stray gleams steal into the inner sanctuary, I throw myself down among the tall grass by the trickling stream; and, as I lie close to the earth, a thousand unknown plants are noticed by me: when I hear the buzz of the little world among the stalks, and grow familiar with the countless indescribable forms of the insects and flies, then I feel the presence of the Almighty, who formed us in his own image, and the breath of that universal love which bears and sustains us, as it floats around us in an eternity of bliss; and then, my friend, when darkness overspreads my eyes, and heaven and earth seem to dwell in my soul and absorb its power, like the form of a beloved mistress, then I often think with longing, Oh, would I could describe these conceptions, could impress upon paper all that is living so full and warm within me, that it might be the mirror of my soul, as my soul is the mirror of the infinite God! O my friend -- but it is too much for my strength -- I sink under the weight of the splendour of these visions! A wonderful serenity has taken possession of my entire soul, like these sweet mornings of spring which I enjoy with my whole heart. I am alone, and feel the charm of existence in this spot, which was created for the bliss of souls like mine. I am so happy, my dear friend, so absorbed in the exquisite sense of mere tranquil existence, that I neglect my talents. I should be incapable of drawing a single stroke at the present moment; and yet I feel that I never was a greater artist than now. When, while the lovely valley teems with vapour around me, and the meridian sun strikes the upper surface of the impenetrable foliage of my trees, and but a few stray gleams steal into the inner sanctuary, I throw myself down among the tall grass by the trickling stream; and, as I lie close to the earth, a thousand unknown plants are noticed by me: when I hear the buzz of the little world among the stalks, and grow familiar with the'"
      ]
     },
     "execution_count": 53,
     "metadata": {},
     "output_type": "execute_result"
    }
   ],
   "source": [
    "sentence"
   ]
  },
  {
   "cell_type": "code",
   "execution_count": 54,
   "id": "17077a2a",
   "metadata": {},
   "outputs": [],
   "source": [
    "# Number of words\n",
    "\n",
    "words = sentence.split(\" \")"
   ]
  },
  {
   "cell_type": "code",
   "execution_count": 55,
   "id": "90f9d3be",
   "metadata": {},
   "outputs": [
    {
     "data": {
      "text/plain": [
       "['A',\n",
       " 'wonderful',\n",
       " 'serenity',\n",
       " 'has',\n",
       " 'taken',\n",
       " 'possession',\n",
       " 'of',\n",
       " 'my',\n",
       " 'entire',\n",
       " 'soul,',\n",
       " 'like',\n",
       " 'these',\n",
       " 'sweet',\n",
       " 'mornings',\n",
       " 'of',\n",
       " 'spring',\n",
       " 'which',\n",
       " 'I',\n",
       " 'enjoy',\n",
       " 'with',\n",
       " 'my',\n",
       " 'whole',\n",
       " 'heart.',\n",
       " 'I',\n",
       " 'am',\n",
       " 'alone,',\n",
       " 'and',\n",
       " 'feel',\n",
       " 'the',\n",
       " 'charm',\n",
       " 'of',\n",
       " 'existence',\n",
       " 'in',\n",
       " 'this',\n",
       " 'spot,',\n",
       " 'which',\n",
       " 'was',\n",
       " 'created',\n",
       " 'for',\n",
       " 'the',\n",
       " 'bliss',\n",
       " 'of',\n",
       " 'souls',\n",
       " 'like',\n",
       " 'mine.',\n",
       " 'I',\n",
       " 'am',\n",
       " 'so',\n",
       " 'happy,',\n",
       " 'my',\n",
       " 'dear',\n",
       " 'friend,',\n",
       " 'so',\n",
       " 'absorbed',\n",
       " 'in',\n",
       " 'the',\n",
       " 'exquisite',\n",
       " 'sense',\n",
       " 'of',\n",
       " 'mere',\n",
       " 'tranquil',\n",
       " 'existence,',\n",
       " 'that',\n",
       " 'I',\n",
       " 'neglect',\n",
       " 'my',\n",
       " 'talents.',\n",
       " 'I',\n",
       " 'should',\n",
       " 'be',\n",
       " 'incapable',\n",
       " 'of',\n",
       " 'drawing',\n",
       " 'a',\n",
       " 'single',\n",
       " 'stroke',\n",
       " 'at',\n",
       " 'the',\n",
       " 'present',\n",
       " 'moment;',\n",
       " 'and',\n",
       " 'yet',\n",
       " 'I',\n",
       " 'feel',\n",
       " 'that',\n",
       " 'I',\n",
       " 'never',\n",
       " 'was',\n",
       " 'a',\n",
       " 'greater',\n",
       " 'artist',\n",
       " 'than',\n",
       " 'now.',\n",
       " 'When,',\n",
       " 'while',\n",
       " 'the',\n",
       " 'lovely',\n",
       " 'valley',\n",
       " 'teems',\n",
       " 'with',\n",
       " 'vapour',\n",
       " 'around',\n",
       " 'me,',\n",
       " 'and',\n",
       " 'the',\n",
       " 'meridian',\n",
       " 'sun',\n",
       " 'strikes',\n",
       " 'the',\n",
       " 'upper',\n",
       " 'surface',\n",
       " 'of',\n",
       " 'the',\n",
       " 'impenetrable',\n",
       " 'foliage',\n",
       " 'of',\n",
       " 'my',\n",
       " 'trees,',\n",
       " 'and',\n",
       " 'but',\n",
       " 'a',\n",
       " 'few',\n",
       " 'stray',\n",
       " 'gleams',\n",
       " 'steal',\n",
       " 'into',\n",
       " 'the',\n",
       " 'inner',\n",
       " 'sanctuary,',\n",
       " 'I',\n",
       " 'throw',\n",
       " 'myself',\n",
       " 'down',\n",
       " 'among',\n",
       " 'the',\n",
       " 'tall',\n",
       " 'grass',\n",
       " 'by',\n",
       " 'the',\n",
       " 'trickling',\n",
       " 'stream;',\n",
       " 'and,',\n",
       " 'as',\n",
       " 'I',\n",
       " 'lie',\n",
       " 'close',\n",
       " 'to',\n",
       " 'the',\n",
       " 'earth,',\n",
       " 'a',\n",
       " 'thousand',\n",
       " 'unknown',\n",
       " 'plants',\n",
       " 'are',\n",
       " 'noticed',\n",
       " 'by',\n",
       " 'me:',\n",
       " 'when',\n",
       " 'I',\n",
       " 'hear',\n",
       " 'the',\n",
       " 'buzz',\n",
       " 'of',\n",
       " 'the',\n",
       " 'little',\n",
       " 'world',\n",
       " 'among',\n",
       " 'the',\n",
       " 'stalks,',\n",
       " 'and',\n",
       " 'grow',\n",
       " 'familiar',\n",
       " 'with',\n",
       " 'the',\n",
       " 'countless',\n",
       " 'indescribable',\n",
       " 'forms',\n",
       " 'of',\n",
       " 'the',\n",
       " 'insects',\n",
       " 'and',\n",
       " 'flies,',\n",
       " 'then',\n",
       " 'I',\n",
       " 'feel',\n",
       " 'the',\n",
       " 'presence',\n",
       " 'of',\n",
       " 'the',\n",
       " 'Almighty,',\n",
       " 'who',\n",
       " 'formed',\n",
       " 'us',\n",
       " 'in',\n",
       " 'his',\n",
       " 'own',\n",
       " 'image,',\n",
       " 'and',\n",
       " 'the',\n",
       " 'breath',\n",
       " 'of',\n",
       " 'that',\n",
       " 'universal',\n",
       " 'love',\n",
       " 'which',\n",
       " 'bears',\n",
       " 'and',\n",
       " 'sustains',\n",
       " 'us,',\n",
       " 'as',\n",
       " 'it',\n",
       " 'floats',\n",
       " 'around',\n",
       " 'us',\n",
       " 'in',\n",
       " 'an',\n",
       " 'eternity',\n",
       " 'of',\n",
       " 'bliss;',\n",
       " 'and',\n",
       " 'then,',\n",
       " 'my',\n",
       " 'friend,',\n",
       " 'when',\n",
       " 'darkness',\n",
       " 'overspreads',\n",
       " 'my',\n",
       " 'eyes,',\n",
       " 'and',\n",
       " 'heaven',\n",
       " 'and',\n",
       " 'earth',\n",
       " 'seem',\n",
       " 'to',\n",
       " 'dwell',\n",
       " 'in',\n",
       " 'my',\n",
       " 'soul',\n",
       " 'and',\n",
       " 'absorb',\n",
       " 'its',\n",
       " 'power,',\n",
       " 'like',\n",
       " 'the',\n",
       " 'form',\n",
       " 'of',\n",
       " 'a',\n",
       " 'beloved',\n",
       " 'mistress,',\n",
       " 'then',\n",
       " 'I',\n",
       " 'often',\n",
       " 'think',\n",
       " 'with',\n",
       " 'longing,',\n",
       " 'Oh,',\n",
       " 'would',\n",
       " 'I',\n",
       " 'could',\n",
       " 'describe',\n",
       " 'these',\n",
       " 'conceptions,',\n",
       " 'could',\n",
       " 'impress',\n",
       " 'upon',\n",
       " 'paper',\n",
       " 'all',\n",
       " 'that',\n",
       " 'is',\n",
       " 'living',\n",
       " 'so',\n",
       " 'full',\n",
       " 'and',\n",
       " 'warm',\n",
       " 'within',\n",
       " 'me,',\n",
       " 'that',\n",
       " 'it',\n",
       " 'might',\n",
       " 'be',\n",
       " 'the',\n",
       " 'mirror',\n",
       " 'of',\n",
       " 'my',\n",
       " 'soul,',\n",
       " 'as',\n",
       " 'my',\n",
       " 'soul',\n",
       " 'is',\n",
       " 'the',\n",
       " 'mirror',\n",
       " 'of',\n",
       " 'the',\n",
       " 'infinite',\n",
       " 'God!',\n",
       " 'O',\n",
       " 'my',\n",
       " 'friend',\n",
       " '--',\n",
       " 'but',\n",
       " 'it',\n",
       " 'is',\n",
       " 'too',\n",
       " 'much',\n",
       " 'for',\n",
       " 'my',\n",
       " 'strength',\n",
       " '--',\n",
       " 'I',\n",
       " 'sink',\n",
       " 'under',\n",
       " 'the',\n",
       " 'weight',\n",
       " 'of',\n",
       " 'the',\n",
       " 'splendour',\n",
       " 'of',\n",
       " 'these',\n",
       " 'visions!',\n",
       " 'A',\n",
       " 'wonderful',\n",
       " 'serenity',\n",
       " 'has',\n",
       " 'taken',\n",
       " 'possession',\n",
       " 'of',\n",
       " 'my',\n",
       " 'entire',\n",
       " 'soul,',\n",
       " 'like',\n",
       " 'these',\n",
       " 'sweet',\n",
       " 'mornings',\n",
       " 'of',\n",
       " 'spring',\n",
       " 'which',\n",
       " 'I',\n",
       " 'enjoy',\n",
       " 'with',\n",
       " 'my',\n",
       " 'whole',\n",
       " 'heart.',\n",
       " 'I',\n",
       " 'am',\n",
       " 'alone,',\n",
       " 'and',\n",
       " 'feel',\n",
       " 'the',\n",
       " 'charm',\n",
       " 'of',\n",
       " 'existence',\n",
       " 'in',\n",
       " 'this',\n",
       " 'spot,',\n",
       " 'which',\n",
       " 'was',\n",
       " 'created',\n",
       " 'for',\n",
       " 'the',\n",
       " 'bliss',\n",
       " 'of',\n",
       " 'souls',\n",
       " 'like',\n",
       " 'mine.',\n",
       " 'I',\n",
       " 'am',\n",
       " 'so',\n",
       " 'happy,',\n",
       " 'my',\n",
       " 'dear',\n",
       " 'friend,',\n",
       " 'so',\n",
       " 'absorbed',\n",
       " 'in',\n",
       " 'the',\n",
       " 'exquisite',\n",
       " 'sense',\n",
       " 'of',\n",
       " 'mere',\n",
       " 'tranquil',\n",
       " 'existence,',\n",
       " 'that',\n",
       " 'I',\n",
       " 'neglect',\n",
       " 'my',\n",
       " 'talents.',\n",
       " 'I',\n",
       " 'should',\n",
       " 'be',\n",
       " 'incapable',\n",
       " 'of',\n",
       " 'drawing',\n",
       " 'a',\n",
       " 'single',\n",
       " 'stroke',\n",
       " 'at',\n",
       " 'the',\n",
       " 'present',\n",
       " 'moment;',\n",
       " 'and',\n",
       " 'yet',\n",
       " 'I',\n",
       " 'feel',\n",
       " 'that',\n",
       " 'I',\n",
       " 'never',\n",
       " 'was',\n",
       " 'a',\n",
       " 'greater',\n",
       " 'artist',\n",
       " 'than',\n",
       " 'now.',\n",
       " 'When,',\n",
       " 'while',\n",
       " 'the',\n",
       " 'lovely',\n",
       " 'valley',\n",
       " 'teems',\n",
       " 'with',\n",
       " 'vapour',\n",
       " 'around',\n",
       " 'me,',\n",
       " 'and',\n",
       " 'the',\n",
       " 'meridian',\n",
       " 'sun',\n",
       " 'strikes',\n",
       " 'the',\n",
       " 'upper',\n",
       " 'surface',\n",
       " 'of',\n",
       " 'the',\n",
       " 'impenetrable',\n",
       " 'foliage',\n",
       " 'of',\n",
       " 'my',\n",
       " 'trees,',\n",
       " 'and',\n",
       " 'but',\n",
       " 'a',\n",
       " 'few',\n",
       " 'stray',\n",
       " 'gleams',\n",
       " 'steal',\n",
       " 'into',\n",
       " 'the',\n",
       " 'inner',\n",
       " 'sanctuary,',\n",
       " 'I',\n",
       " 'throw',\n",
       " 'myself',\n",
       " 'down',\n",
       " 'among',\n",
       " 'the',\n",
       " 'tall',\n",
       " 'grass',\n",
       " 'by',\n",
       " 'the',\n",
       " 'trickling',\n",
       " 'stream;',\n",
       " 'and,',\n",
       " 'as',\n",
       " 'I',\n",
       " 'lie',\n",
       " 'close',\n",
       " 'to',\n",
       " 'the',\n",
       " 'earth,',\n",
       " 'a',\n",
       " 'thousand',\n",
       " 'unknown',\n",
       " 'plants',\n",
       " 'are',\n",
       " 'noticed',\n",
       " 'by',\n",
       " 'me:',\n",
       " 'when',\n",
       " 'I',\n",
       " 'hear',\n",
       " 'the',\n",
       " 'buzz',\n",
       " 'of',\n",
       " 'the',\n",
       " 'little',\n",
       " 'world',\n",
       " 'among',\n",
       " 'the',\n",
       " 'stalks,',\n",
       " 'and',\n",
       " 'grow',\n",
       " 'familiar',\n",
       " 'with',\n",
       " 'the']"
      ]
     },
     "execution_count": 55,
     "metadata": {},
     "output_type": "execute_result"
    }
   ],
   "source": [
    "words"
   ]
  },
  {
   "cell_type": "code",
   "execution_count": 56,
   "id": "b38bcfe8",
   "metadata": {},
   "outputs": [
    {
     "name": "stdout",
     "output_type": "stream",
     "text": [
      "493\n"
     ]
    }
   ],
   "source": [
    "print(len(words))"
   ]
  },
  {
   "cell_type": "code",
   "execution_count": 57,
   "id": "e6d674d6",
   "metadata": {},
   "outputs": [],
   "source": [
    "# What is the number of times each word occurs"
   ]
  },
  {
   "cell_type": "code",
   "execution_count": 58,
   "id": "6854ea88",
   "metadata": {},
   "outputs": [],
   "source": [
    "word_frequency = {}\n",
    "for word in words:\n",
    "    if word not in word_frequency:\n",
    "        # first time encountering word, so its frequency should be 1\n",
    "        word_frequency[word] = 1\n",
    "    else:\n",
    "        word_frequency[word] = word_frequency[word] + 1"
   ]
  },
  {
   "cell_type": "code",
   "execution_count": 59,
   "id": "adf624b9",
   "metadata": {},
   "outputs": [
    {
     "data": {
      "text/plain": [
       "{'A': 2,\n",
       " 'wonderful': 2,\n",
       " 'serenity': 2,\n",
       " 'has': 2,\n",
       " 'taken': 2,\n",
       " 'possession': 2,\n",
       " 'of': 27,\n",
       " 'my': 17,\n",
       " 'entire': 2,\n",
       " 'soul,': 3,\n",
       " 'like': 5,\n",
       " 'these': 4,\n",
       " 'sweet': 2,\n",
       " 'mornings': 2,\n",
       " 'spring': 2,\n",
       " 'which': 5,\n",
       " 'I': 24,\n",
       " 'enjoy': 2,\n",
       " 'with': 7,\n",
       " 'whole': 2,\n",
       " 'heart.': 2,\n",
       " 'am': 4,\n",
       " 'alone,': 2,\n",
       " 'and': 18,\n",
       " 'feel': 5,\n",
       " 'the': 42,\n",
       " 'charm': 2,\n",
       " 'existence': 2,\n",
       " 'in': 7,\n",
       " 'this': 2,\n",
       " 'spot,': 2,\n",
       " 'was': 4,\n",
       " 'created': 2,\n",
       " 'for': 3,\n",
       " 'bliss': 2,\n",
       " 'souls': 2,\n",
       " 'mine.': 2,\n",
       " 'so': 5,\n",
       " 'happy,': 2,\n",
       " 'dear': 2,\n",
       " 'friend,': 3,\n",
       " 'absorbed': 2,\n",
       " 'exquisite': 2,\n",
       " 'sense': 2,\n",
       " 'mere': 2,\n",
       " 'tranquil': 2,\n",
       " 'existence,': 2,\n",
       " 'that': 7,\n",
       " 'neglect': 2,\n",
       " 'talents.': 2,\n",
       " 'should': 2,\n",
       " 'be': 3,\n",
       " 'incapable': 2,\n",
       " 'drawing': 2,\n",
       " 'a': 9,\n",
       " 'single': 2,\n",
       " 'stroke': 2,\n",
       " 'at': 2,\n",
       " 'present': 2,\n",
       " 'moment;': 2,\n",
       " 'yet': 2,\n",
       " 'never': 2,\n",
       " 'greater': 2,\n",
       " 'artist': 2,\n",
       " 'than': 2,\n",
       " 'now.': 2,\n",
       " 'When,': 2,\n",
       " 'while': 2,\n",
       " 'lovely': 2,\n",
       " 'valley': 2,\n",
       " 'teems': 2,\n",
       " 'vapour': 2,\n",
       " 'around': 3,\n",
       " 'me,': 3,\n",
       " 'meridian': 2,\n",
       " 'sun': 2,\n",
       " 'strikes': 2,\n",
       " 'upper': 2,\n",
       " 'surface': 2,\n",
       " 'impenetrable': 2,\n",
       " 'foliage': 2,\n",
       " 'trees,': 2,\n",
       " 'but': 3,\n",
       " 'few': 2,\n",
       " 'stray': 2,\n",
       " 'gleams': 2,\n",
       " 'steal': 2,\n",
       " 'into': 2,\n",
       " 'inner': 2,\n",
       " 'sanctuary,': 2,\n",
       " 'throw': 2,\n",
       " 'myself': 2,\n",
       " 'down': 2,\n",
       " 'among': 4,\n",
       " 'tall': 2,\n",
       " 'grass': 2,\n",
       " 'by': 4,\n",
       " 'trickling': 2,\n",
       " 'stream;': 2,\n",
       " 'and,': 2,\n",
       " 'as': 4,\n",
       " 'lie': 2,\n",
       " 'close': 2,\n",
       " 'to': 3,\n",
       " 'earth,': 2,\n",
       " 'thousand': 2,\n",
       " 'unknown': 2,\n",
       " 'plants': 2,\n",
       " 'are': 2,\n",
       " 'noticed': 2,\n",
       " 'me:': 2,\n",
       " 'when': 3,\n",
       " 'hear': 2,\n",
       " 'buzz': 2,\n",
       " 'little': 2,\n",
       " 'world': 2,\n",
       " 'stalks,': 2,\n",
       " 'grow': 2,\n",
       " 'familiar': 2,\n",
       " 'countless': 1,\n",
       " 'indescribable': 1,\n",
       " 'forms': 1,\n",
       " 'insects': 1,\n",
       " 'flies,': 1,\n",
       " 'then': 2,\n",
       " 'presence': 1,\n",
       " 'Almighty,': 1,\n",
       " 'who': 1,\n",
       " 'formed': 1,\n",
       " 'us': 2,\n",
       " 'his': 1,\n",
       " 'own': 1,\n",
       " 'image,': 1,\n",
       " 'breath': 1,\n",
       " 'universal': 1,\n",
       " 'love': 1,\n",
       " 'bears': 1,\n",
       " 'sustains': 1,\n",
       " 'us,': 1,\n",
       " 'it': 3,\n",
       " 'floats': 1,\n",
       " 'an': 1,\n",
       " 'eternity': 1,\n",
       " 'bliss;': 1,\n",
       " 'then,': 1,\n",
       " 'darkness': 1,\n",
       " 'overspreads': 1,\n",
       " 'eyes,': 1,\n",
       " 'heaven': 1,\n",
       " 'earth': 1,\n",
       " 'seem': 1,\n",
       " 'dwell': 1,\n",
       " 'soul': 2,\n",
       " 'absorb': 1,\n",
       " 'its': 1,\n",
       " 'power,': 1,\n",
       " 'form': 1,\n",
       " 'beloved': 1,\n",
       " 'mistress,': 1,\n",
       " 'often': 1,\n",
       " 'think': 1,\n",
       " 'longing,': 1,\n",
       " 'Oh,': 1,\n",
       " 'would': 1,\n",
       " 'could': 2,\n",
       " 'describe': 1,\n",
       " 'conceptions,': 1,\n",
       " 'impress': 1,\n",
       " 'upon': 1,\n",
       " 'paper': 1,\n",
       " 'all': 1,\n",
       " 'is': 3,\n",
       " 'living': 1,\n",
       " 'full': 1,\n",
       " 'warm': 1,\n",
       " 'within': 1,\n",
       " 'might': 1,\n",
       " 'mirror': 2,\n",
       " 'infinite': 1,\n",
       " 'God!': 1,\n",
       " 'O': 1,\n",
       " 'friend': 1,\n",
       " '--': 2,\n",
       " 'too': 1,\n",
       " 'much': 1,\n",
       " 'strength': 1,\n",
       " 'sink': 1,\n",
       " 'under': 1,\n",
       " 'weight': 1,\n",
       " 'splendour': 1,\n",
       " 'visions!': 1}"
      ]
     },
     "execution_count": 59,
     "metadata": {},
     "output_type": "execute_result"
    }
   ],
   "source": [
    "word_frequency"
   ]
  },
  {
   "cell_type": "code",
   "execution_count": 60,
   "id": "e6aad6d7",
   "metadata": {},
   "outputs": [
    {
     "name": "stdout",
     "output_type": "stream",
     "text": [
      "191 191\n"
     ]
    }
   ],
   "source": [
    "## What are the number of unique words?\n",
    "\n",
    "unique_words = word_frequency.keys()\n",
    "num_uniq_words = len(unique_words)\n",
    "\n",
    "# Or,\n",
    "num_uniq_words_method_2 = len(word_frequency)\n",
    "\n",
    "print(num_uniq_words, num_uniq_words_method_2)"
   ]
  },
  {
   "cell_type": "code",
   "execution_count": 62,
   "id": "053fb6a3",
   "metadata": {},
   "outputs": [
    {
     "name": "stdout",
     "output_type": "stream",
     "text": [
      "the 42\n"
     ]
    }
   ],
   "source": [
    "## What are the most common words?\n",
    "\n",
    "\n",
    "most_common  = None\n",
    "num_most_common_words = -1\n",
    "\n",
    "for word in word_frequency:\n",
    "    num_times_word = word_frequency[word]\n",
    "    if num_times_word > num_most_common_words:\n",
    "        num_most_common_words = num_times_word\n",
    "        most_common = word\n",
    "        \n",
    "print(most_common, num_most_common_words)"
   ]
  },
  {
   "cell_type": "markdown",
   "id": "9c203dca",
   "metadata": {},
   "source": [
    "#### Nested dictionary\n",
    "\n",
    "- Useful to represent hierarchy"
   ]
  },
  {
   "cell_type": "code",
   "execution_count": 64,
   "id": "69956a44",
   "metadata": {},
   "outputs": [],
   "source": [
    "students = {\n",
    "    \"2025\":\n",
    "    {\n",
    "        \"Mechanical\": ['Rahul', 'Sunita'],\n",
    "        \"Civil\": ['Anita', 'Gita', 'Rohan'],\n",
    "        \n",
    "    },\n",
    "    \n",
    "    \"2024\":\n",
    "    {\n",
    "        \"Mechanical\":[\"Arya\", \"Atul\"],\n",
    "        \"Civil\": [\"Parth\", \"Himanshi\"]\n",
    "    }\n",
    "}"
   ]
  },
  {
   "cell_type": "code",
   "execution_count": 66,
   "id": "9bdac53a",
   "metadata": {},
   "outputs": [
    {
     "name": "stdout",
     "output_type": "stream",
     "text": [
      "{'Mechanical': ['Rahul', 'Sunita'], 'Civil': ['Anita', 'Gita', 'Rohan']}\n"
     ]
    }
   ],
   "source": [
    "# Who are civil students from 2025 batch?\n",
    "\n",
    "\n",
    "students_2025 = students[\"2025\"]\n",
    "print(students_2025)\n",
    "\n"
   ]
  },
  {
   "cell_type": "code",
   "execution_count": 67,
   "id": "690e2b57",
   "metadata": {},
   "outputs": [
    {
     "name": "stdout",
     "output_type": "stream",
     "text": [
      "['Anita', 'Gita', 'Rohan']\n"
     ]
    }
   ],
   "source": [
    "students_2025_civil = students_2025[\"Civil\"]\n",
    "print(students_2025_civil)"
   ]
  }
 ],
 "metadata": {
  "kernelspec": {
   "display_name": "Python 3",
   "language": "python",
   "name": "python3"
  },
  "language_info": {
   "codemirror_mode": {
    "name": "ipython",
    "version": 3
   },
   "file_extension": ".py",
   "mimetype": "text/x-python",
   "name": "python",
   "nbconvert_exporter": "python",
   "pygments_lexer": "ipython3",
   "version": "3.8.11"
  }
 },
 "nbformat": 4,
 "nbformat_minor": 5
}
