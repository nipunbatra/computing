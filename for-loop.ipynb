{
 "cells": [
  {
   "cell_type": "markdown",
   "id": "ad3c54b6",
   "metadata": {},
   "source": [
    "### range()"
   ]
  },
  {
   "cell_type": "markdown",
   "id": "30c5a1ff",
   "metadata": {},
   "source": [
    "Syntax:\n",
    "    \n",
    "    range(start, end, step)\n",
    "    \n",
    "    Produces a `list` of numbers from start to end - 1 with a gap of step\n",
    "    \n",
    "For the purposes of this lecture, we will be using `list(range(start, end, step))` only"
   ]
  },
  {
   "cell_type": "markdown",
   "id": "640b97f2",
   "metadata": {},
   "source": [
    "List of numbers from 0 to 9"
   ]
  },
  {
   "cell_type": "code",
   "execution_count": 4,
   "id": "79ee03b9",
   "metadata": {},
   "outputs": [
    {
     "data": {
      "text/plain": [
       "[0, 1, 2, 3, 4, 5, 6, 7, 8, 9]"
      ]
     },
     "execution_count": 4,
     "metadata": {},
     "output_type": "execute_result"
    }
   ],
   "source": [
    "list(range(0, 10, 1))"
   ]
  },
  {
   "cell_type": "markdown",
   "id": "d076d31d",
   "metadata": {},
   "source": [
    "List of numbers from 0 to 9"
   ]
  },
  {
   "cell_type": "code",
   "execution_count": 5,
   "id": "671b82d4",
   "metadata": {},
   "outputs": [
    {
     "data": {
      "text/plain": [
       "[0, 1, 2, 3, 4, 5, 6, 7, 8, 9, 10]"
      ]
     },
     "execution_count": 5,
     "metadata": {},
     "output_type": "execute_result"
    }
   ],
   "source": [
    "list(range(0, 11, 1))"
   ]
  },
  {
   "cell_type": "markdown",
   "id": "efb52129",
   "metadata": {},
   "source": [
    "List of odd numbers from 1 to 30"
   ]
  },
  {
   "cell_type": "code",
   "execution_count": 7,
   "id": "23cea144",
   "metadata": {},
   "outputs": [
    {
     "data": {
      "text/plain": [
       "[1, 3, 5, 7, 9, 11, 13, 15, 17, 19, 21, 23, 25, 27, 29]"
      ]
     },
     "execution_count": 7,
     "metadata": {},
     "output_type": "execute_result"
    }
   ],
   "source": [
    "list(range(1, 31, 2))"
   ]
  },
  {
   "cell_type": "markdown",
   "id": "e56229d8",
   "metadata": {},
   "source": [
    "List of multiples of 3 from 3 to 60"
   ]
  },
  {
   "cell_type": "code",
   "execution_count": 8,
   "id": "3cb77336",
   "metadata": {},
   "outputs": [
    {
     "data": {
      "text/plain": [
       "[3, 6, 9, 12, 15, 18, 21, 24, 27, 30, 33, 36, 39, 42, 45, 48, 51, 54, 57, 60]"
      ]
     },
     "execution_count": 8,
     "metadata": {},
     "output_type": "execute_result"
    }
   ],
   "source": [
    "list(range(3, 61, 3 ))"
   ]
  },
  {
   "cell_type": "markdown",
   "id": "3dbc2b8c",
   "metadata": {},
   "source": [
    "### Revise while loop\n",
    "\n",
    "\n",
    "```\n",
    "Initialise looping variable\n",
    "\n",
    "while condition (on looping variable):\n",
    "    Do something\n",
    "    change looping variable\n",
    "    Do something\n",
    " ```"
   ]
  },
  {
   "cell_type": "markdown",
   "id": "044a5117",
   "metadata": {},
   "source": [
    "Print numbers from 1 to 5 (including 5)"
   ]
  },
  {
   "cell_type": "code",
   "execution_count": 11,
   "id": "b8832bcf",
   "metadata": {},
   "outputs": [
    {
     "name": "stdout",
     "output_type": "stream",
     "text": [
      "1\n",
      "2\n",
      "3\n",
      "4\n",
      "5\n"
     ]
    }
   ],
   "source": [
    "# Initialise\n",
    "i = 1\n",
    "\n",
    "# Check condition\n",
    "while i <= 5:\n",
    "    # Do something \n",
    "    print(i)\n",
    "    \n",
    "    # Change looping variable\n",
    "    i = i +1"
   ]
  },
  {
   "cell_type": "markdown",
   "id": "62244e35",
   "metadata": {},
   "source": [
    "Same thing using a for loop"
   ]
  },
  {
   "cell_type": "code",
   "execution_count": 13,
   "id": "ea6fef29",
   "metadata": {},
   "outputs": [
    {
     "name": "stdout",
     "output_type": "stream",
     "text": [
      "1\n",
      "2\n",
      "3\n",
      "4\n",
      "5\n"
     ]
    }
   ],
   "source": [
    "for i in [1, 2, 3, 4, 5]:\n",
    "    print(i)"
   ]
  },
  {
   "cell_type": "markdown",
   "id": "793f2f60",
   "metadata": {},
   "source": [
    "### for loop\n",
    "```\n",
    "for looping variable in LIST:\n",
    "    Do something\n",
    "```\n",
    "    \n",
    "### while loop\n",
    "\n",
    "\n",
    "```\n",
    "Initialise looping variable\n",
    "\n",
    "while condition (on looping variable):\n",
    "    Do something\n",
    "    change looping variable\n",
    "    Do something\n",
    " ```\n",
    " \n",
    " \n",
    "1. In while loop, we have to check for the condition. In for loop, we create the LIST in such a way that only those numbers that satisfy the condition will be there.\n",
    "2. In while loop, we have to manually update the iteration or looping variable. In for loop, we create the LIST in such a way that only those numbers that satisfy the condition will be there.\n",
    "3. In while loop, we have to initialise the looping or iteration variable. In for loop, we create the LIST in such a way that only those numbers that satisfy the condition will be there. "
   ]
  },
  {
   "cell_type": "markdown",
   "id": "842dd1e7",
   "metadata": {},
   "source": [
    "### Initialisation\n",
    "\n",
    "#### While loop\n",
    "\n",
    "\n",
    "i = 1\n",
    "\n",
    "\n",
    "#### For loop\n",
    "\n",
    "\n",
    "for i in [<b>1</b>, 2, 3, 4, 5]\n"
   ]
  },
  {
   "cell_type": "markdown",
   "id": "9cc7eb0d",
   "metadata": {},
   "source": [
    "### Step or update\n",
    "\n",
    "#### While loop\n",
    "\n",
    "\n",
    "i = i + 1\n",
    "\n",
    "\n",
    "#### For loop\n",
    "\n",
    "\n",
    "Numbers created with a step of \n",
    "for i in **[1, 2, 3, 4, 5]**:"
   ]
  },
  {
   "cell_type": "markdown",
   "id": "55b132c2",
   "metadata": {},
   "source": [
    "### End condition\n",
    "\n",
    "#### While loop\n",
    "\n",
    "\n",
    "while i <=5\n",
    "\n",
    "\n",
    "#### For loop\n",
    "\n",
    "\n",
    "\n",
    "for i in [1, 2, 3, 4, **5**]:"
   ]
  },
  {
   "cell_type": "markdown",
   "id": "d88938be",
   "metadata": {},
   "source": [
    "#### Demo of above for loop code in Pythontutor.com"
   ]
  },
  {
   "cell_type": "code",
   "execution_count": 14,
   "id": "3139b753",
   "metadata": {},
   "outputs": [
    {
     "name": "stdout",
     "output_type": "stream",
     "text": [
      "1\n",
      "2\n",
      "3\n",
      "4\n",
      "5\n"
     ]
    }
   ],
   "source": [
    "for i in list(range(1, 6, 1)):\n",
    "    print(i)"
   ]
  },
  {
   "cell_type": "markdown",
   "id": "ec654243",
   "metadata": {},
   "source": [
    "- Using while loop find the sum of first n numbers\n",
    "- Write the above code using for loop\n",
    "- Using while loop find the sum of odd numbers from 1 to n \n",
    "- Write the above code using for loop\n",
    "- Using for loop find largest number in a list of numbers: [1, 43, 2, -1, 5, 5]. We can also do this using a while loop, but it is out of scope for today.\n",
    "- Using for loop find the number of numbers in the following list: [1, 4, 5, 6, 7, 10]\n",
    "- Using for loop find sum of large numbers in the following list: [1, 5, 20, 10, 3, 3, 5]. We define a large numbers as a number greater than 4.\n",
    "- Using a for loop\n"
   ]
  }
 ],
 "metadata": {
  "kernelspec": {
   "display_name": "Python 3",
   "language": "python",
   "name": "python3"
  },
  "language_info": {
   "codemirror_mode": {
    "name": "ipython",
    "version": 3
   },
   "file_extension": ".py",
   "mimetype": "text/x-python",
   "name": "python",
   "nbconvert_exporter": "python",
   "pygments_lexer": "ipython3",
   "version": "3.8.11"
  }
 },
 "nbformat": 4,
 "nbformat_minor": 5
}
